{
 "cells": [
  {
   "cell_type": "markdown",
   "metadata": {
    "id": "M-DGa20PaHnu"
   },
   "source": [
    "#Задача 1\n",
    "Написать функцию на вход которой подается строка, состоящая из латинских букв.\n",
    "Функция должна вернуть количество гласных букв (a, e, i, o, u) в этой строке. Написать тесты для кода"
   ]
  },
  {
   "cell_type": "code",
   "execution_count": 1,
   "metadata": {
    "id": "XvX8X_JJ6PCb"
   },
   "outputs": [
    {
     "name": "stdout",
     "output_type": "stream",
     "text": [
      "All test cases passed!\n"
     ]
    }
   ],
   "source": [
    "def f(word):\n",
    "    # Переводим строку в нижний регистр, чтобы учитывать как прописные, так и строчные буквы.\n",
    "    word = word.lower()\n",
    "    # Гласные буквы на латинице.\n",
    "    glasn = \"aeuoi\"\n",
    "    # Счетчик для подсчета гласных.\n",
    "    count = 0\n",
    "    # Проходим по каждому символу в строке.\n",
    "    for i in word:\n",
    "        # Если символ является гласным, увеличиваем счетчик.\n",
    "        if glasn.__contains__(i):\n",
    "            count += 1\n",
    "    # Возвращаем итоговое количество гласных.\n",
    "    return count\n",
    "\n",
    "# Тесты для проверки корректности функции.\n",
    "def tests():\n",
    "    assert f(\"abcde\") == 2, \"Test case 1 failed\"  # 'a' и 'e' - гласные.\n",
    "    assert f(\"hello\") == 2, \"Test case 2 failed\"  # 'e' и 'o' - гласные.\n",
    "    assert f(\"Python\") == 1, \"Test case 3 failed\"  # Только 'o' - гласная.\n",
    "    assert f(\"World\") == 1, \"Test case 4 failed\"  # Только 'o' - гласная.\n",
    "    assert f(\"12345\") == 0, \"Test case 5 failed\"  # Нет гласных.\n",
    "    print(\"All test cases passed!\")\n",
    "\n",
    "# Запускаем тесты.\n",
    "tests()"
   ]
  },
  {
   "cell_type": "markdown",
   "metadata": {
    "id": "t2ClV_Y0bbr6"
   },
   "source": [
    "# Задача 2\n",
    "Написать функцию на вход, которой подается строка. Функция должна вернуть true, если\n",
    "каждый символ в строке встречается только 1 раз, иначе должна вернуть false. Написать тесты для кода"
   ]
  },
  {
   "cell_type": "code",
   "execution_count": 2,
   "metadata": {
    "id": "FppbECao6VIz"
   },
   "outputs": [
    {
     "name": "stdout",
     "output_type": "stream",
     "text": [
      "All test cases passed!\n"
     ]
    }
   ],
   "source": [
    "def unique_str(string):\n",
    "    # Преобразуем строку в множество, чтобы убрать дубликаты.\n",
    "    # Если длина множества равна длине строки, то символы уникальны.\n",
    "    return len(string) == len(set(string))\n",
    "\n",
    "# Тесты для проверки функции.\n",
    "def tests():\n",
    "    assert unique_str(\"abcde\") == True, \"Test case 1 failed\"  # Все символы уникальны.\n",
    "    assert unique_str(\"hello\") == False, \"Test case 2 failed\"  # 'l' повторяется.\n",
    "    assert unique_str(\"Python\") == True, \"Test case 3 failed\"  # Все символы уникальны.\n",
    "    assert unique_str(\"World\") == True, \"Test case 4 failed\"  # Все символы уникальны.\n",
    "    assert unique_str(\"12345\") == True, \"Test case 5 failed\"  # Все символы уникальны.\n",
    "    assert unique_str(\"112233\") == False, \"Test case 6 failed\"  # Цифры повторяются.\n",
    "    print(\"All test cases passed!\")\n",
    "\n",
    "# Запускаем тесты.\n",
    "tests()"
   ]
  },
  {
   "cell_type": "markdown",
   "metadata": {
    "id": "udRiIK1cdt6E"
   },
   "source": [
    "# Задача 3\n",
    "Написать функцию, которая принимает положительное число и возвращает количество\n",
    "бит равных 1 в этом числе. Написать тесты для кода"
   ]
  },
  {
   "cell_type": "code",
   "execution_count": 3,
   "metadata": {
    "id": "6tkfDJRz6dp_"
   },
   "outputs": [
    {
     "name": "stdout",
     "output_type": "stream",
     "text": [
      "All test cases passed!\n"
     ]
    }
   ],
   "source": [
    "def ones_in_bin(n):\n",
    "    # Преобразуем число в двоичное представление с помощью bin() и подсчитываем количество '1'.\n",
    "    return bin(n).count('1')\n",
    "\n",
    "# Тесты для проверки функции.\n",
    "def tests():\n",
    "    assert ones_in_bin(1) == 1, \"Test case 1 failed\"  # 1 -> '1' (1 бит равен 1).\n",
    "    assert ones_in_bin(0) == 0, \"Test case 2 failed\"  # 0 -> '0' (нет битов равных 1).\n",
    "    assert ones_in_bin(10) == 2, \"Test case 3 failed\"  # 10 -> '1010' (2 бита равны 1).\n",
    "    assert ones_in_bin(11) == 3, \"Test case 4 failed\"  # 11 -> '1011' (3 бита равны 1).\n",
    "    assert ones_in_bin(100) == 3, \"Test case 5 failed\"  # 100 -> '1100100' (3 бита равны 1).\n",
    "    assert ones_in_bin(102) == 4, \"Test case 6 failed\"  # 102 -> '1100110' (4 бита равны 1).\n",
    "    print(\"All test cases passed!\")\n",
    "\n",
    "# Запускаем тесты.\n",
    "tests()"
   ]
  },
  {
   "cell_type": "markdown",
   "metadata": {
    "id": "26dDUz-Ae17N"
   },
   "source": [
    "# Задача 4\n",
    "Написать функцию, которая принимает положительное число. Функция должна вернуть то,\n",
    "сколько раз необходимо перемножать цифры числа или результат перемножения, чтобы\n",
    "получилось число состоящее из одной цифры.\n",
    "Например, для входного числа:\n",
    "· 39 функция должна вернуть 3, так как 3*9=27 => 2*7=14 => 1*4=4\n",
    "· 4 функция должна вернуть 0, так как число уже состоит из одной цифры\n",
    "· 999 функция должна вернуть 4, так как 9*9*9=729 => 7*2*9=126 => 1*2*6=12 =>\n",
    "1*2=2. Написать тесты для кода"
   ]
  },
  {
   "cell_type": "code",
   "execution_count": 4,
   "metadata": {
    "id": "BH1A_Mgi6i4G"
   },
   "outputs": [
    {
     "name": "stdout",
     "output_type": "stream",
     "text": [
      "All test cases passed!\n"
     ]
    }
   ],
   "source": [
    "def magic(n):\n",
    "    count = 0\n",
    "    # Пока число состоит из более чем одной цифры, продолжаем процесс.\n",
    "    while n >= 10:\n",
    "        product = 1\n",
    "        # Разбиваем число на цифры и перемножаем их.\n",
    "        while n > 0:\n",
    "            product *= n % 10\n",
    "            n //= 10\n",
    "        n = product\n",
    "        count += 1\n",
    "    # Возвращаем количество шагов.\n",
    "    return count\n",
    "\n",
    "def tests():\n",
    "    assert magic(39) == 3, \"Test case 1 failed\"  # 3*9=27 -> 2*7=14 -> 1*4=4 (3 шага).\n",
    "    assert magic(4) == 0, \"Test case 2 failed\"  # Уже одна цифра, шагов не требуется.\n",
    "    assert magic(999) == 4, \"Test case 3 failed\"  # 9*9*9=729 -> 7*2*9=126 -> 1*2*6=12 -> 1*2=2 (4 шага).\n",
    "    assert magic(123) == 1, \"Test case 4 failed\"  # 1*2*3=6 (1 шаг).\n",
    "    print(\"All test cases passed!\")\n",
    "\n",
    "tests()"
   ]
  },
  {
   "cell_type": "markdown",
   "metadata": {
    "id": "0nS-kIa8g8vd"
   },
   "source": [
    "# Задача 5\n",
    "Написать функцию, которая принимает два целочисленных вектора одинаковой длины и\n",
    "возвращает среднеквадратическое отклонение двух векторов. Написать тесты для кода"
   ]
  },
  {
   "cell_type": "code",
   "execution_count": 5,
   "metadata": {
    "id": "8iphx4LM6xbx"
   },
   "outputs": [
    {
     "name": "stdout",
     "output_type": "stream",
     "text": [
      "All test cases passed!\n"
     ]
    }
   ],
   "source": [
    "def mse(pred, true):\n",
    "    if len(pred) != len(true):\n",
    "        raise ValueError(\"Vectors must be of the same length\")\n",
    "    # Вычисляем квадраты ошибок и берем среднее значение.\n",
    "    squared_errors = [(p - t) ** 2 for p, t in zip(pred, true)]\n",
    "    return sum(squared_errors) / len(pred)\n",
    "\n",
    "def tests():\n",
    "    assert mse([1, 2, 3], [1, 2, 3]) == 0, \"Test case 1 failed\"  # Ошибка 0 для одинаковых векторов.\n",
    "    assert mse([1, 2, 3], [2, 3, 4]) == 1, \"Test case 2 failed\"  # Ошибки (1, 1, 1) -> среднее 1.\n",
    "    assert mse([0, 0, 0], [1, 1, 1]) == 1, \"Test case 3 failed\"  # Ошибки (1, 1, 1) -> среднее 1.\n",
    "    print(\"All test cases passed!\")\n",
    "\n",
    "tests()"
   ]
  },
  {
   "cell_type": "markdown",
   "metadata": {
    "id": "vpIPKL439zkw"
   },
   "source": [
    "# Задача 6\n",
    "Написать функцию, принимающая целое положительное число. Функция должна вернуть\n",
    "строку вида “(n1**p1)(n2**p2)…(nk**pk)” представляющая разложение числа на простые\n",
    "множители (если pi == 1, то выводить только ni).\n",
    "Например, для числа 86240 функция должна вернуть “(2**5)(5)(7**2)(11)”. Написать тесты для кода"
   ]
  },
  {
   "cell_type": "code",
   "execution_count": 6,
   "metadata": {
    "id": "pFebmcZk94Jw"
   },
   "outputs": [
    {
     "name": "stdout",
     "output_type": "stream",
     "text": [
      "All test cases passed!\n"
     ]
    }
   ],
   "source": [
    "def function(n):\n",
    "    multipliers = []\n",
    "    d = 2\n",
    "    # Проверяем делители до квадратного корня из числа.\n",
    "    while d * d <= n:\n",
    "        count = 0\n",
    "        # Пока делится на текущий делитель, увеличиваем счетчик и делим число.\n",
    "        while (n % d) == 0:\n",
    "            n //= d\n",
    "            count += 1\n",
    "        if count > 0:\n",
    "            if count == 1:\n",
    "                multipliers.append(f\"({d})\")\n",
    "            else:\n",
    "                multipliers.append(f\"({d}**{count})\")\n",
    "        d += 1\n",
    "    # Если после всех делений остается число больше 1, оно также добавляется.\n",
    "    if n > 1:\n",
    "        multipliers.append(f\"({n})\")\n",
    "    return ''.join(multipliers)\n",
    "\n",
    "def tests():\n",
    "    assert function(86240) == \"(2**5)(5)(7**2)(11)\", \"Test case 1 failed\"  # Разложение 86240.\n",
    "    assert function(1) == \"\", \"Test case 2 failed\"  # Нет множителей.\n",
    "    assert function(100) == \"(2**2)(5**2)\", \"Test case 3 failed\"  # Разложение 100.\n",
    "    print(\"All test cases passed!\")\n",
    "\n",
    "tests()\n"
   ]
  },
  {
   "cell_type": "markdown",
   "metadata": {
    "id": "ps2s0BudX7A2"
   },
   "source": [
    "# Задача 7\n",
    "Написать функцию, принимающая целое число n, задающее количество кубиков. Функция\n",
    "должна определить, можно ли из данного кол-ва кубиков построить пирамиду, то есть\n",
    "можно ли представить число n как 1^2+2^2+3^2+…+k^2. Если можно, то функция должна\n",
    "вернуть k, иначе строку “It is impossible”. Написать тесты для кода"
   ]
  },
  {
   "cell_type": "code",
   "execution_count": 7,
   "metadata": {
    "id": "3YPjEXxhX_YT"
   },
   "outputs": [
    {
     "name": "stdout",
     "output_type": "stream",
     "text": [
      "All test cases passed!\n"
     ]
    }
   ],
   "source": [
    "def pyramid(number):\n",
    "    if number < 1:\n",
    "        return 'It is impossible'\n",
    "    k = 1\n",
    "    cubes_count = 0\n",
    "    # Считаем количество кубиков для пирамиды.\n",
    "    while cubes_count < number:\n",
    "        cubes_count += k**2\n",
    "        if cubes_count == number:\n",
    "            return k  # Возвращаем количество уровней.\n",
    "        k += 1\n",
    "    return 'It is impossible'\n",
    "\n",
    "def tests():\n",
    "    assert pyramid(14) == 3, \"Test case 1 failed\"  # 1^2 + 2^2 + 3^2 = 14.\n",
    "    assert pyramid(91) == 6, \"Test case 2 failed\"  # 1^2 + 2^2 + ... + 6^2 = 91.\n",
    "    assert pyramid(10) == 'It is impossible', \"Test case 3 failed\"  # 10 не представимо как сумма квадратов.\n",
    "    print(\"All test cases passed!\")\n",
    "\n",
    "tests()"
   ]
  },
  {
   "cell_type": "markdown",
   "metadata": {
    "id": "KeKgmIdAQMEJ"
   },
   "source": [
    "# Задача 8\n",
    "Функция принимает на вход положительное число и определяет является ли оно сбалансированным, т.е. сумма цифр до средних равна сумме цифр после. Средними в случае нечетного числа цифр считать одну цифру, в случае четного - две средних. Написать тесты для кода"
   ]
  },
  {
   "cell_type": "code",
   "execution_count": 8,
   "metadata": {
    "id": "gMAAqtqlQrZt"
   },
   "outputs": [
    {
     "name": "stdout",
     "output_type": "stream",
     "text": [
      "All test cases passed!\n"
     ]
    }
   ],
   "source": [
    "def balance(number):\n",
    "    str_number = str(number)\n",
    "    middle = len(str_number) // 2\n",
    "    if len(str_number) % 2 == 0:\n",
    "        left, right = str_number[:middle], str_number[middle:]\n",
    "    else:\n",
    "        left, right = str_number[:middle], str_number[middle+1:]\n",
    "    # Преобразуем символы в цифры и вычисляем их сумму.\n",
    "    return sum(map(int, left)) == sum(map(int, right))\n",
    "\n",
    "def tests():\n",
    "    assert balance(123321) == True, \"Test case 1 failed\"  # Суммы 1+2+3 и 3+2+1 равны.\n",
    "    assert balance(12312) == True, \"Test case 2 failed\"  # Суммы 1+2 и 1+2 равны.\n",
    "    assert balance(123456) == False, \"Test case 3 failed\"  # Суммы не равны.\n",
    "    print(\"All test cases passed!\")\n",
    "\n",
    "tests()"
   ]
  }
 ],
 "metadata": {
  "colab": {
   "provenance": []
  },
  "kernelspec": {
   "display_name": "Python 3",
   "name": "python3"
  },
  "language_info": {
   "codemirror_mode": {
    "name": "ipython",
    "version": 3
   },
   "file_extension": ".py",
   "mimetype": "text/x-python",
   "name": "python",
   "nbconvert_exporter": "python",
   "pygments_lexer": "ipython3",
   "version": "3.11.9"
  }
 },
 "nbformat": 4,
 "nbformat_minor": 0
}
